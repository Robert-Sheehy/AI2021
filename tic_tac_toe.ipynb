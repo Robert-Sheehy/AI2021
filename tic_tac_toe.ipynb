{
  "nbformat": 4,
  "nbformat_minor": 0,
  "metadata": {
    "colab": {
      "name": "tic-tac-toe.ipynb",
      "provenance": [],
      "authorship_tag": "ABX9TyMRhbYoabPBBYaIRhDEOh6R",
      "include_colab_link": true
    },
    "kernelspec": {
      "name": "python3",
      "display_name": "Python 3"
    }
  },
  "cells": [
    {
      "cell_type": "markdown",
      "metadata": {
        "id": "view-in-github",
        "colab_type": "text"
      },
      "source": [
        "<a href=\"https://colab.research.google.com/github/Robert-Sheehy/AI2021/blob/main/tic_tac_toe.ipynb\" target=\"_parent\"><img src=\"https://colab.research.google.com/assets/colab-badge.svg\" alt=\"Open In Colab\"/></a>"
      ]
    },
    {
      "cell_type": "code",
      "metadata": {
        "id": "WUf-Pe0z4MKH"
      },
      "source": [
        "class CurrentBoard:\r\n",
        "  def __init__(self,setup_of_board = \"         \"):\r\n",
        "      self.board = setup_of_board\r\n",
        "      self.state = self.state_of_play()\r\n",
        "\r\n",
        "  def display_board(self, game_display = False):\r\n",
        "    \r\n",
        "    if game_display:\r\n",
        "      ind =0\r\n",
        "      c = ''\r\n",
        "      for char in self.board:\r\n",
        "          if char == \" \":\r\n",
        "            c+=str(ind)\r\n",
        "            \r\n",
        "          else:\r\n",
        "            c+=char\r\n",
        "          ind+=1\r\n",
        "    else:\r\n",
        "      c = self.board\r\n",
        "    \r\n",
        "\r\n",
        "    \r\n",
        "    print(\"{}|{}|{}\".format(c[0], c[1],c[2]))\r\n",
        "    print(\"-----\")\r\n",
        "    print(\"{}|{}|{}\".format(c[3], c[4],c[5]))\r\n",
        "    print(\"-----\")\r\n",
        "    print(\"{}|{}|{}\".format(c[6], c[7],c[8]))\r\n",
        "\r\n",
        "  def all_possible_moves_for(self, _this):  # all_possile_moves_for(\"X\")\r\n",
        "    all_boards = []\r\n",
        "    for i in range(len(self.board)):\r\n",
        "      if self.board[i] == \" \":   \r\n",
        "        all_boards.append(CurrentBoard( self.board[:i] + _this + self.board[i+1:]))\r\n",
        "\r\n",
        "    return all_boards\r\n",
        "\r\n",
        "\r\n",
        "  def equal3(self, a,b,c):\r\n",
        "    return (a==b) and (a==c)\r\n",
        "\r\n",
        "  def state_of_play(self):\r\n",
        "\r\n",
        "    #012\r\n",
        "    #345\r\n",
        "    #678\r\n",
        "    if self.equal3(self.board[0],self.board[1],self.board[2] ) or self.equal3(self.board[0],self.board[3],self.board[6] ) or self.equal3(self.board[0],self.board[4],self.board[8] ):\r\n",
        "      if self.board[0] != \" \":\r\n",
        "        return self.board[0]\r\n",
        "\r\n",
        "    if self.equal3(self.board[3],self.board[4],self.board[5]  ) or  self.equal3(self.board[4],self.board[1],self.board[7] ) or self.equal3(self.board[4],self.board[6],self.board[2] ):\r\n",
        "      if self.board[4] != \" \":\r\n",
        "        return self.board[4]\r\n",
        "\r\n",
        "    if self.equal3(self.board[6],self.board[7],self.board[8]  ) or  self.equal3(self.board[2],self.board[5],self.board[8] ) :\r\n",
        "      if self.board[8] != \" \":\r\n",
        "        return self.board[8]  \r\n",
        "      \r\n",
        "\r\n",
        "    if \" \" in self.board:\r\n",
        "      return \"U\"\r\n",
        "\r\n",
        "    return \"D\"\r\n",
        "\r\n",
        "    \r\n",
        "  \r\n",
        "\r\n",
        "\r\n",
        "\r\n",
        "\r\n",
        "\r\n",
        "\r\n",
        "  \r\n",
        "\r\n"
      ],
      "execution_count": null,
      "outputs": []
    },
    {
      "cell_type": "code",
      "metadata": {
        "id": "rnjOY7siKYb1"
      },
      "source": [
        "q = CurrentBoard(\"  XOX    \")\r\n"
      ],
      "execution_count": null,
      "outputs": []
    },
    {
      "cell_type": "code",
      "metadata": {
        "colab": {
          "base_uri": "https://localhost:8080/"
        },
        "id": "ZKsmWus-KlKn",
        "outputId": "64a0ea16-0f78-4e1f-a6d9-76088718d1eb"
      },
      "source": [
        "q.display_board(game_display=True)"
      ],
      "execution_count": null,
      "outputs": [
        {
          "output_type": "stream",
          "text": [
            "0|1|X\n",
            "-----\n",
            "O|X|2\n",
            "-----\n",
            "3|4|5\n"
          ],
          "name": "stdout"
        }
      ]
    },
    {
      "cell_type": "markdown",
      "metadata": {
        "id": "6VadHkuoADO1"
      },
      "source": [
        ""
      ]
    },
    {
      "cell_type": "code",
      "metadata": {
        "id": "sWJ_8vAEIGl9"
      },
      "source": [
        "class Search_Tree_Node:\r\n",
        "  def __init__(self, game , playing_char, ply = 0):\r\n",
        "    self.children =[]\r\n",
        "    self.ply_depth = ply\r\n",
        "    self.value_is_assigned = False\r\n",
        "    self.value = 999\r\n",
        "    self.board_for_node = game\r\n",
        "    self.playing = playing_char\r\n",
        "    if self.board_for_node.state == \"U\":\r\n",
        "      self.generate_children()\r\n",
        "    else:\r\n",
        "      if self.board_for_node.state == \"D\":\r\n",
        "        self.value = 0\r\n",
        "      else: \r\n",
        "        if (self.ply_depth % 2) ==0:\r\n",
        "          self.value = -1\r\n",
        "        else:\r\n",
        "          self.value = 1\r\n",
        "      self.value_is_assigned = True\r\n",
        "      \r\n",
        "\r\n",
        "\r\n",
        "\r\n",
        "  def max_min_value(self):\r\n",
        "    # if no value is assigned we will assign the max(or min) of the value of the children\r\n",
        "\r\n",
        "    if  self.value_is_assigned:\r\n",
        "        return self.value\r\n",
        "\r\n",
        "    else: \r\n",
        "      self.children = sorted(self.children, key= lambda x: x.max_min_value() )\r\n",
        "\r\n",
        "      if (self.ply_depth % 2) == 0:\r\n",
        "        self.value = self.children[-1].value\r\n",
        "      else:\r\n",
        "        self.value = self.children[0].value\r\n",
        "    return self.value\r\n",
        "\r\n",
        "\r\n",
        "  def other_char(self,current):\r\n",
        "    if current == \"X\":\r\n",
        "      return \"O\"\r\n",
        "    if current == \"O\":\r\n",
        "      return \"X\"\r\n",
        "    return \" \"\r\n",
        "\r\n",
        "  def generate_children(self):\r\n",
        "    for next_move in self.board_for_node.all_possible_moves_for(self.playing):\r\n",
        "      self.children.append(Search_Tree_Node(next_move, self.other_char(self.playing), self.ply_depth + 1))\r\n",
        "\r\n"
      ],
      "execution_count": null,
      "outputs": []
    },
    {
      "cell_type": "code",
      "metadata": {
        "id": "Jz8KAmWPIToP"
      },
      "source": [
        "s = Search_Tree_Node(CurrentBoard(),\"X\")"
      ],
      "execution_count": null,
      "outputs": []
    },
    {
      "cell_type": "code",
      "metadata": {
        "colab": {
          "base_uri": "https://localhost:8080/"
        },
        "id": "W1gASoCcHuY0",
        "outputId": "ff601ab6-ae14-4208-9d01-d3346f9ad09d"
      },
      "source": [
        "s.max_min_value()"
      ],
      "execution_count": null,
      "outputs": [
        {
          "output_type": "execute_result",
          "data": {
            "text/plain": [
              "0"
            ]
          },
          "metadata": {
            "tags": []
          },
          "execution_count": 50
        }
      ]
    },
    {
      "cell_type": "code",
      "metadata": {
        "id": "j6bcBazwDJab"
      },
      "source": [
        "def run_game():\r\n",
        "  current_game = CurrentBoard()\r\n",
        "  #  Ask player do they want to move first?\r\n",
        "  choice = input(\"Do you want to go first y/n?\")\r\n",
        "  player_going_first = (choice == \"y\") or (choice == \"Y\")\r\n",
        "\r\n",
        "  player_this_turn = player_going_first\r\n",
        "\r\n",
        "\r\n",
        "  #  Do you want X or O?\r\n",
        "\r\n",
        "  choice = input(\"Do you want to play X's  y/n?\")\r\n",
        "  player_playing_X = (choice == \"y\") or (choice == \"Y\")\r\n",
        "  if player_playing_X:\r\n",
        "    player_playing = \"X\"\r\n",
        "    computer_playing = \"O\"\r\n",
        "  else:\r\n",
        "    player_playing = \"O\"\r\n",
        "    computer_playing = \"X\"\r\n",
        "  #  Loop\r\n",
        "  for i in range(9):\r\n",
        "\r\n",
        "   # Display Current board (for player input)  \r\n",
        "    current_game.display_board(game_display = True)\r\n",
        "    if player_this_turn:\r\n",
        "      print(\" \")\r\n",
        "      player_move = input(\"Choose your move --\")\r\n",
        "      index_of_player_move = int(player_move)\r\n",
        "\r\n",
        "\r\n",
        "      new_board_string = current_game.board[:index_of_player_move] + player_playing + current_game.board[index_of_player_move+1:]\r\n",
        "      current_game= CurrentBoard(new_board_string)\r\n",
        "    else:\r\n",
        "      print(\" \")\r\n",
        "      st = Search_Tree_Node(current_game,computer_playing)\r\n",
        "      print(st.max_min_value())\r\n",
        "      current_game =  st.children[-1].board_for_node\r\n",
        "\r\n",
        "    player_this_turn = not  player_this_turn\r\n",
        "\r\n",
        "    if current_game.state !=\"U\":\r\n",
        "      if current_game.state == \"D\":\r\n",
        "        print(\"I cant believe it you drew with me!!!\")\r\n",
        "      elif computer_playing == current_game.state:\r\n",
        "        print(\" I win too easy !!!\")\r\n",
        "      else:\r\n",
        "        print(\"The world is coming to an end!!!\")\r\n",
        "      current_game.display_board()\r\n",
        "      break\r\n",
        "   \r\n",
        "  \r\n"
      ],
      "execution_count": null,
      "outputs": []
    },
    {
      "cell_type": "code",
      "metadata": {
        "colab": {
          "base_uri": "https://localhost:8080/"
        },
        "id": "wrvBe_GVQOsH",
        "outputId": "79e55f9c-91ab-4217-cf42-6e1105a45858"
      },
      "source": [
        "run_game()"
      ],
      "execution_count": null,
      "outputs": [
        {
          "output_type": "stream",
          "text": [
            "Do you want to go first y/n?n\n",
            "Do you want to play X's  y/n?n\n",
            "0|1|2\n",
            "-----\n",
            "3|4|5\n",
            "-----\n",
            "6|7|8\n",
            " \n",
            "0\n",
            "0|1|2\n",
            "-----\n",
            "3|4|5\n",
            "-----\n",
            "6|7|X\n",
            " \n",
            "Choose your move --4\n",
            "0|1|2\n",
            "-----\n",
            "3|O|5\n",
            "-----\n",
            "6|7|X\n",
            " \n",
            "0\n",
            "0|1|2\n",
            "-----\n",
            "3|O|5\n",
            "-----\n",
            "6|X|X\n",
            " \n",
            "Choose your move --6\n",
            "0|1|2\n",
            "-----\n",
            "3|O|5\n",
            "-----\n",
            "O|X|X\n",
            " \n",
            "0\n",
            "0|1|X\n",
            "-----\n",
            "3|O|5\n",
            "-----\n",
            "O|X|X\n",
            " \n",
            "Choose your move --5\n",
            "0|1|X\n",
            "-----\n",
            "3|O|O\n",
            "-----\n",
            "O|X|X\n",
            " \n",
            "0\n",
            "0|1|X\n",
            "-----\n",
            "X|O|O\n",
            "-----\n",
            "O|X|X\n",
            " \n",
            "Choose your move --0\n",
            "O|1|X\n",
            "-----\n",
            "X|O|O\n",
            "-----\n",
            "O|X|X\n",
            " \n",
            "0\n",
            "I cant believe it you drew with me!!!\n",
            "O|X|X\n",
            "-----\n",
            "X|O|O\n",
            "-----\n",
            "O|X|X\n"
          ],
          "name": "stdout"
        }
      ]
    },
    {
      "cell_type": "code",
      "metadata": {
        "id": "SUSPXEYNQeeR"
      },
      "source": [
        "t = CurrentBoard(\"  XOX OXO\")"
      ],
      "execution_count": null,
      "outputs": []
    },
    {
      "cell_type": "code",
      "metadata": {
        "colab": {
          "base_uri": "https://localhost:8080/",
          "height": 35
        },
        "id": "06KIVHSXYvua",
        "outputId": "56133831-b557-401f-c27b-ce59b5c80985"
      },
      "source": [
        "t.state"
      ],
      "execution_count": null,
      "outputs": [
        {
          "output_type": "execute_result",
          "data": {
            "application/vnd.google.colaboratory.intrinsic+json": {
              "type": "string"
            },
            "text/plain": [
              "'U'"
            ]
          },
          "metadata": {
            "tags": []
          },
          "execution_count": 95
        }
      ]
    },
    {
      "cell_type": "code",
      "metadata": {
        "id": "SkEEWYhoYyXx"
      },
      "source": [
        "s = Search_Tree_Node(t,\"O\")"
      ],
      "execution_count": null,
      "outputs": []
    },
    {
      "cell_type": "code",
      "metadata": {
        "colab": {
          "base_uri": "https://localhost:8080/"
        },
        "id": "xj7lMoF4ZQnG",
        "outputId": "cd364c8c-8c69-4e7c-9841-2231dcaced7d"
      },
      "source": [
        "s.max_min_value()"
      ],
      "execution_count": null,
      "outputs": [
        {
          "output_type": "execute_result",
          "data": {
            "text/plain": [
              "0"
            ]
          },
          "metadata": {
            "tags": []
          },
          "execution_count": 100
        }
      ]
    },
    {
      "cell_type": "code",
      "metadata": {
        "id": "bTzVAN4UZUD3"
      },
      "source": [
        "b =[\"wwww\", \"wwww\", \"wwww\",\"    \",\"    \",\"bbbb\",\"bbbb\",\"bbbb\"]"
      ],
      "execution_count": null,
      "outputs": []
    },
    {
      "cell_type": "code",
      "metadata": {
        "colab": {
          "base_uri": "https://localhost:8080/",
          "height": 35
        },
        "id": "H4rKvbFSbDHG",
        "outputId": "e1b2e45c-62bd-4c95-aebf-67944ec16831"
      },
      "source": [
        "b[1][2]"
      ],
      "execution_count": null,
      "outputs": [
        {
          "output_type": "execute_result",
          "data": {
            "application/vnd.google.colaboratory.intrinsic+json": {
              "type": "string"
            },
            "text/plain": [
              "'w'"
            ]
          },
          "metadata": {
            "tags": []
          },
          "execution_count": 16
        }
      ]
    },
    {
      "cell_type": "code",
      "metadata": {
        "id": "MKY9ztEcbGHX"
      },
      "source": [
        ""
      ],
      "execution_count": null,
      "outputs": []
    }
  ]
}