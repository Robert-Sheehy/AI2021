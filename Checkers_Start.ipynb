{
  "nbformat": 4,
  "nbformat_minor": 0,
  "metadata": {
    "colab": {
      "name": "Checkers Start.ipynb",
      "provenance": [],
      "include_colab_link": true
    },
    "kernelspec": {
      "name": "python3",
      "display_name": "Python 3"
    }
  },
  "cells": [
    {
      "cell_type": "markdown",
      "metadata": {
        "id": "view-in-github",
        "colab_type": "text"
      },
      "source": [
        "<a href=\"https://colab.research.google.com/github/Robert-Sheehy/AI2021/blob/main/Checkers_Start.ipynb\" target=\"_parent\"><img src=\"https://colab.research.google.com/assets/colab-badge.svg\" alt=\"Open In Colab\"/></a>"
      ]
    },
    {
      "cell_type": "code",
      "metadata": {
        "id": "WUf-Pe0z4MKH"
      },
      "source": [
        "class CurrentBoard:\n",
        "  def __init__(self,setup_of_board = ['wwww','wwww','wwww','    ','    ','bbbb', 'bbbb', 'bbbb']):\n",
        "      self.board = setup_of_board\n",
        "    \n",
        "\n",
        "  def display_board(self):\n",
        "    print(\"-----------------\")\n",
        "    for row in range(8):\n",
        "      c = self.board[row]\n",
        "      if (row % 2) == 0:\n",
        "        print(\"| |{}| |{}| |{}| |{}|\".format(c[0], c[1],c[2],c[3]))\n",
        "      else: \n",
        "        print(\"|{}| |{}| |{}| |{}| |\".format(c[0], c[1],c[2],c[3]))\n",
        "      print(\"-----------------\")\n",
        "    \n",
        "\n",
        "\n",
        "  def all_possible_move_for_position(self, position, inc):\n",
        "    # inc = 1 for whites, inc = -1 for black, inc  =0 for kings\n",
        "    # return a list of all possible positions reachable in 1 move from position\n",
        "    all_moves = []\n",
        "\n",
        "    if inc == 0:\n",
        "        return self.all_possible_move_for_position(position, -1) + self.all_possible_move_for_position(position,1)\n",
        "\n",
        "\n",
        "    start_row = position[0]\n",
        "    start_i = position[1]\n",
        "\n",
        "    new_row = start_row+inc\n",
        "    if (new_row>=0) and (new_row < 8):\n",
        "      all_moves.append((new_row,start_i))\n",
        "      if (start_row % 2) == 0:\n",
        "        if (start_i<3):\n",
        "          all_moves.append((new_row, start_i+1))\n",
        "      else:\n",
        "        if (start_i >0):\n",
        "          all_moves.append((new_row, start_i-1))       \n",
        "\n",
        "    return all_moves\n",
        "\n",
        "  def playingAs(self,piece):\n",
        "    if piece == 'W':\n",
        "      return 'w'\n",
        "    if piece == \"B\":\n",
        "      return 'b'\n",
        "    return piece\n",
        "\n",
        "\n",
        "  def all_possible_moves_for(self, _this): # all moves for \"w\" or \"b\"\n",
        "    all_boards = []\n",
        "\n",
        "    for row in range(8):\n",
        "      for i in range(4):\n",
        "        if self.playingAs(self.board[row][i]) == _this:\n",
        "          inc = 0\n",
        "          if self.board[row][i] == _this:\n",
        "            if _this == 'w':\n",
        "              inc = 1\n",
        "            else:\n",
        "              inc = -1\n",
        "          all_boards += self.construct_boards_for((row,i) , self.all_possible_move_for_position((row,i), inc))\n",
        "\n",
        "\n",
        "\n",
        "\n",
        "\n",
        "    return all_boards\n",
        "\n",
        "\n",
        "\n",
        "  def construct_boards_for(self,  from_position , to_position_list):\n",
        "    boards = []\n",
        "    piece = self.board[from_position[0]][from_position[1]]\n",
        "    for new_position in to_position_list:\n",
        "      if self.board[new_position[0]][new_position[1]] == \" \":\n",
        "        board_def = []\n",
        "        for row_index in range(8):\n",
        "          row = self.board[row_index]\n",
        "          if row_index == from_position[0]:\n",
        "            board_def.append( row[:from_position[1]] +' ' +row[from_position[1]+1:] )\n",
        "          elif row_index == new_position[0]:\n",
        "            board_def.append ( row[:new_position[1]] +piece +row[new_position[1]+1:])\n",
        "          else:\n",
        "            board_def.append(row)\n",
        "          \n",
        "\n",
        "        boards.append(CurrentBoard(board_def))\n",
        "    return boards\n",
        "\n",
        "\n",
        "\n",
        "  def equal3(self, a,b,c):\n",
        "    return (a==b) and (a==c)\n",
        "\n",
        "  def state_of_play(self):\n",
        "\n",
        "    #012\n",
        "    #345\n",
        "    #678\n",
        "    if self.equal3(self.board[0],self.board[1],self.board[2] ) or self.equal3(self.board[0],self.board[3],self.board[6] ) or self.equal3(self.board[0],self.board[4],self.board[8] ):\n",
        "      if self.board[0] != \" \":\n",
        "        return self.board[0]\n",
        "\n",
        "    if self.equal3(self.board[3],self.board[4],self.board[5]  ) or  self.equal3(self.board[4],self.board[1],self.board[7] ) or self.equal3(self.board[4],self.board[6],self.board[2] ):\n",
        "      if self.board[4] != \" \":\n",
        "        return self.board[4]\n",
        "\n",
        "    if self.equal3(self.board[6],self.board[7],self.board[8]  ) or  self.equal3(self.board[2],self.board[5],self.board[8] ) :\n",
        "      if self.board[8] != \" \":\n",
        "        return self.board[8]  \n",
        "      \n",
        "\n",
        "    if \" \" in self.board:\n",
        "      return \"U\"\n",
        "\n",
        "    return \"D\"\n",
        "\n",
        "    \n",
        "  \n",
        "\n",
        "\n",
        "\n",
        "\n",
        "\n",
        "\n",
        "  \n",
        "\n"
      ],
      "execution_count": null,
      "outputs": []
    },
    {
      "cell_type": "markdown",
      "metadata": {
        "id": "fTFRP9npJTgt"
      },
      "source": [
        "# Storage and Movement\n",
        "\n",
        "The board is stored as rows of 4 characters (as only 4 squares active in each row)\n",
        "\n",
        "This will need to be appropriately dealt with when referring to positions \n",
        "\n",
        "We will represent a place on the board by $(r,i)$\n",
        "\n",
        "A piece in position $(r,i)$ may move to\n",
        "\n",
        "$(r,i) \\rightarrow (r \\pm 1 , i $ or $ i+1 )$ for even rows or ...\n",
        "$(r,i) \\rightarrow (r \\pm 1 , i-1 $ or $ i )$ for odd rows\n",
        "\n",
        "assuming these new values are valid as indices.\n",
        "\n"
      ]
    },
    {
      "cell_type": "code",
      "metadata": {
        "colab": {
          "base_uri": "https://localhost:8080/"
        },
        "id": "zWV6cSCYKUiu",
        "outputId": "feeee264-64ed-4c44-ec51-f91a82e9de2b"
      },
      "source": [
        "(2,3)"
      ],
      "execution_count": null,
      "outputs": [
        {
          "output_type": "execute_result",
          "data": {
            "text/plain": [
              "(2, 3)"
            ]
          },
          "metadata": {
            "tags": []
          },
          "execution_count": 22
        }
      ]
    },
    {
      "cell_type": "code",
      "metadata": {
        "id": "XyYDfhD1GzCN"
      },
      "source": [
        "position = (0,2)   \n",
        "q = CurrentBoard()\n"
      ],
      "execution_count": null,
      "outputs": []
    },
    {
      "cell_type": "code",
      "metadata": {
        "id": "_q5XRuj_KqPO"
      },
      "source": [
        "moves =q.all_possible_moves_for(\"b\")"
      ],
      "execution_count": null,
      "outputs": []
    },
    {
      "cell_type": "code",
      "metadata": {
        "colab": {
          "base_uri": "https://localhost:8080/"
        },
        "id": "72u3zDuna_gf",
        "outputId": "e1c23852-386f-4c95-bbc8-445980f95bec"
      },
      "source": [
        "for m in moves:\n",
        "  m.display_board()"
      ],
      "execution_count": null,
      "outputs": [
        {
          "output_type": "stream",
          "text": [
            "-----------------\n",
            "| |w| |w| |w| |w|\n",
            "-----------------\n",
            "|w| |w| |w| |w| |\n",
            "-----------------\n",
            "| |w| |w| |w| |w|\n",
            "-----------------\n",
            "| | | | | | | | |\n",
            "-----------------\n",
            "| |b| | | | | | |\n",
            "-----------------\n",
            "| | |b| |b| |b| |\n",
            "-----------------\n",
            "| |b| |b| |b| |b|\n",
            "-----------------\n",
            "|b| |b| |b| |b| |\n",
            "-----------------\n",
            "-----------------\n",
            "| |w| |w| |w| |w|\n",
            "-----------------\n",
            "|w| |w| |w| |w| |\n",
            "-----------------\n",
            "| |w| |w| |w| |w|\n",
            "-----------------\n",
            "| | | | | | | | |\n",
            "-----------------\n",
            "| | | |b| | | | |\n",
            "-----------------\n",
            "|b| | | |b| |b| |\n",
            "-----------------\n",
            "| |b| |b| |b| |b|\n",
            "-----------------\n",
            "|b| |b| |b| |b| |\n",
            "-----------------\n",
            "-----------------\n",
            "| |w| |w| |w| |w|\n",
            "-----------------\n",
            "|w| |w| |w| |w| |\n",
            "-----------------\n",
            "| |w| |w| |w| |w|\n",
            "-----------------\n",
            "| | | | | | | | |\n",
            "-----------------\n",
            "| |b| | | | | | |\n",
            "-----------------\n",
            "|b| | | |b| |b| |\n",
            "-----------------\n",
            "| |b| |b| |b| |b|\n",
            "-----------------\n",
            "|b| |b| |b| |b| |\n",
            "-----------------\n",
            "-----------------\n",
            "| |w| |w| |w| |w|\n",
            "-----------------\n",
            "|w| |w| |w| |w| |\n",
            "-----------------\n",
            "| |w| |w| |w| |w|\n",
            "-----------------\n",
            "| | | | | | | | |\n",
            "-----------------\n",
            "| | | | | |b| | |\n",
            "-----------------\n",
            "|b| |b| | | |b| |\n",
            "-----------------\n",
            "| |b| |b| |b| |b|\n",
            "-----------------\n",
            "|b| |b| |b| |b| |\n",
            "-----------------\n",
            "-----------------\n",
            "| |w| |w| |w| |w|\n",
            "-----------------\n",
            "|w| |w| |w| |w| |\n",
            "-----------------\n",
            "| |w| |w| |w| |w|\n",
            "-----------------\n",
            "| | | | | | | | |\n",
            "-----------------\n",
            "| | | |b| | | | |\n",
            "-----------------\n",
            "|b| |b| | | |b| |\n",
            "-----------------\n",
            "| |b| |b| |b| |b|\n",
            "-----------------\n",
            "|b| |b| |b| |b| |\n",
            "-----------------\n",
            "-----------------\n",
            "| |w| |w| |w| |w|\n",
            "-----------------\n",
            "|w| |w| |w| |w| |\n",
            "-----------------\n",
            "| |w| |w| |w| |w|\n",
            "-----------------\n",
            "| | | | | | | | |\n",
            "-----------------\n",
            "| | | | | | | |b|\n",
            "-----------------\n",
            "|b| |b| |b| | | |\n",
            "-----------------\n",
            "| |b| |b| |b| |b|\n",
            "-----------------\n",
            "|b| |b| |b| |b| |\n",
            "-----------------\n",
            "-----------------\n",
            "| |w| |w| |w| |w|\n",
            "-----------------\n",
            "|w| |w| |w| |w| |\n",
            "-----------------\n",
            "| |w| |w| |w| |w|\n",
            "-----------------\n",
            "| | | | | | | | |\n",
            "-----------------\n",
            "| | | | | |b| | |\n",
            "-----------------\n",
            "|b| |b| |b| | | |\n",
            "-----------------\n",
            "| |b| |b| |b| |b|\n",
            "-----------------\n",
            "|b| |b| |b| |b| |\n",
            "-----------------\n"
          ],
          "name": "stdout"
        }
      ]
    },
    {
      "cell_type": "code",
      "metadata": {
        "id": "rnjOY7siKYb1",
        "colab": {
          "base_uri": "https://localhost:8080/"
        },
        "outputId": "6321c0f9-ae41-47d1-df12-87c8c796a80b"
      },
      "source": [
        "q.display_board()\n"
      ],
      "execution_count": null,
      "outputs": [
        {
          "output_type": "stream",
          "text": [
            "-----------------\n",
            "| |w| |w| |w| |w|\n",
            "-----------------\n",
            "|w| |w| |w| |w| |\n",
            "-----------------\n",
            "| |w| |w| |w| |w|\n",
            "-----------------\n",
            "| | | | | | | | |\n",
            "-----------------\n",
            "| | | | | | | | |\n",
            "-----------------\n",
            "|b| |b| |b| |b| |\n",
            "-----------------\n",
            "| |b| |b| |b| |b|\n",
            "-----------------\n",
            "|b| |b| |b| |b| |\n",
            "-----------------\n"
          ],
          "name": "stdout"
        }
      ]
    },
    {
      "cell_type": "code",
      "metadata": {
        "colab": {
          "base_uri": "https://localhost:8080/"
        },
        "id": "ZKsmWus-KlKn",
        "outputId": "64a0ea16-0f78-4e1f-a6d9-76088718d1eb"
      },
      "source": [
        "q.display_board(game_display=True)"
      ],
      "execution_count": null,
      "outputs": [
        {
          "output_type": "stream",
          "text": [
            "0|1|X\n",
            "-----\n",
            "O|X|2\n",
            "-----\n",
            "3|4|5\n"
          ],
          "name": "stdout"
        }
      ]
    },
    {
      "cell_type": "markdown",
      "metadata": {
        "id": "6VadHkuoADO1"
      },
      "source": [
        ""
      ]
    },
    {
      "cell_type": "code",
      "metadata": {
        "id": "sWJ_8vAEIGl9"
      },
      "source": [
        "class Search_Tree_Node:\n",
        "  def __init__(self, game , playing_char, ply = 0):\n",
        "    self.children =[]\n",
        "    self.ply_depth = ply\n",
        "    self.value_is_assigned = False\n",
        "    self.value = 999\n",
        "    self.board_for_node = game\n",
        "    self.playing = playing_char\n",
        "    if self.board_for_node.state == \"U\":\n",
        "      self.generate_children()\n",
        "    else:\n",
        "      if self.board_for_node.state == \"D\":\n",
        "        self.value = 0\n",
        "      else: \n",
        "        if (self.ply_depth % 2) ==0:\n",
        "          self.value = -1\n",
        "        else:\n",
        "          self.value = 1\n",
        "      self.value_is_assigned = True\n",
        "      \n",
        "\n",
        "\n",
        "\n",
        "  def max_min_value(self):\n",
        "    # if no value is assigned we will assign the max(or min) of the value of the children\n",
        "\n",
        "    if  self.value_is_assigned:\n",
        "        return self.value\n",
        "\n",
        "    else: \n",
        "      self.children = sorted(self.children, key= lambda x: x.max_min_value() )\n",
        "\n",
        "      if (self.ply_depth % 2) == 0:\n",
        "        self.value = self.children[-1].value\n",
        "      else:\n",
        "        self.value = self.children[0].value\n",
        "    return self.value\n",
        "\n",
        "\n",
        "  def other_char(self,current):\n",
        "    if current == \"X\":\n",
        "      return \"O\"\n",
        "    if current == \"O\":\n",
        "      return \"X\"\n",
        "    return \" \"\n",
        "\n",
        "  def generate_children(self):\n",
        "    for next_move in self.board_for_node.all_possible_moves_for(self.playing):\n",
        "      self.children.append(Search_Tree_Node(next_move, self.other_char(self.playing), self.ply_depth + 1))\n",
        "\n"
      ],
      "execution_count": null,
      "outputs": []
    },
    {
      "cell_type": "code",
      "metadata": {
        "id": "Jz8KAmWPIToP"
      },
      "source": [
        "s = Search_Tree_Node(CurrentBoard(),\"X\")"
      ],
      "execution_count": null,
      "outputs": []
    },
    {
      "cell_type": "code",
      "metadata": {
        "colab": {
          "base_uri": "https://localhost:8080/"
        },
        "id": "W1gASoCcHuY0",
        "outputId": "ff601ab6-ae14-4208-9d01-d3346f9ad09d"
      },
      "source": [
        "s.max_min_value()"
      ],
      "execution_count": null,
      "outputs": [
        {
          "output_type": "execute_result",
          "data": {
            "text/plain": [
              "0"
            ]
          },
          "metadata": {
            "tags": []
          },
          "execution_count": 50
        }
      ]
    },
    {
      "cell_type": "code",
      "metadata": {
        "id": "j6bcBazwDJab"
      },
      "source": [
        "def run_game():\n",
        "  current_game = CurrentBoard()\n",
        "  #  Ask player do they want to move first?\n",
        "  choice = input(\"Do you want to go first y/n?\")\n",
        "  player_going_first = (choice == \"y\") or (choice == \"Y\")\n",
        "\n",
        "  player_this_turn = player_going_first\n",
        "\n",
        "\n",
        "  #  Do you want X or O?\n",
        "\n",
        "  choice = input(\"Do you want to play X's  y/n?\")\n",
        "  player_playing_X = (choice == \"y\") or (choice == \"Y\")\n",
        "  if player_playing_X:\n",
        "    player_playing = \"X\"\n",
        "    computer_playing = \"O\"\n",
        "  else:\n",
        "    player_playing = \"O\"\n",
        "    computer_playing = \"X\"\n",
        "  #  Loop\n",
        "  for i in range(9):\n",
        "\n",
        "   # Display Current board (for player input)  \n",
        "    current_game.display_board(game_display = True)\n",
        "    if player_this_turn:\n",
        "      print(\" \")\n",
        "      player_move = input(\"Choose your move --\")\n",
        "      index_of_player_move = int(player_move)\n",
        "\n",
        "\n",
        "      new_board_string = current_game.board[:index_of_player_move] + player_playing + current_game.board[index_of_player_move+1:]\n",
        "      current_game= CurrentBoard(new_board_string)\n",
        "    else:\n",
        "      print(\" \")\n",
        "      st = Search_Tree_Node(current_game,computer_playing)\n",
        "      print(st.max_min_value())\n",
        "      current_game =  st.children[-1].board_for_node\n",
        "\n",
        "    player_this_turn = not  player_this_turn\n",
        "\n",
        "    if current_game.state !=\"U\":\n",
        "      if current_game.state == \"D\":\n",
        "        print(\"I cant believe it you drew with me!!!\")\n",
        "      elif computer_playing == current_game.state:\n",
        "        print(\" I win too easy !!!\")\n",
        "      else:\n",
        "        print(\"The world is coming to an end!!!\")\n",
        "      current_game.display_board()\n",
        "      break\n",
        "   \n",
        "  \n"
      ],
      "execution_count": null,
      "outputs": []
    },
    {
      "cell_type": "code",
      "metadata": {
        "colab": {
          "base_uri": "https://localhost:8080/"
        },
        "id": "wrvBe_GVQOsH",
        "outputId": "79e55f9c-91ab-4217-cf42-6e1105a45858"
      },
      "source": [
        "run_game()"
      ],
      "execution_count": null,
      "outputs": [
        {
          "output_type": "stream",
          "text": [
            "Do you want to go first y/n?n\n",
            "Do you want to play X's  y/n?n\n",
            "0|1|2\n",
            "-----\n",
            "3|4|5\n",
            "-----\n",
            "6|7|8\n",
            " \n",
            "0\n",
            "0|1|2\n",
            "-----\n",
            "3|4|5\n",
            "-----\n",
            "6|7|X\n",
            " \n",
            "Choose your move --4\n",
            "0|1|2\n",
            "-----\n",
            "3|O|5\n",
            "-----\n",
            "6|7|X\n",
            " \n",
            "0\n",
            "0|1|2\n",
            "-----\n",
            "3|O|5\n",
            "-----\n",
            "6|X|X\n",
            " \n",
            "Choose your move --6\n",
            "0|1|2\n",
            "-----\n",
            "3|O|5\n",
            "-----\n",
            "O|X|X\n",
            " \n",
            "0\n",
            "0|1|X\n",
            "-----\n",
            "3|O|5\n",
            "-----\n",
            "O|X|X\n",
            " \n",
            "Choose your move --5\n",
            "0|1|X\n",
            "-----\n",
            "3|O|O\n",
            "-----\n",
            "O|X|X\n",
            " \n",
            "0\n",
            "0|1|X\n",
            "-----\n",
            "X|O|O\n",
            "-----\n",
            "O|X|X\n",
            " \n",
            "Choose your move --0\n",
            "O|1|X\n",
            "-----\n",
            "X|O|O\n",
            "-----\n",
            "O|X|X\n",
            " \n",
            "0\n",
            "I cant believe it you drew with me!!!\n",
            "O|X|X\n",
            "-----\n",
            "X|O|O\n",
            "-----\n",
            "O|X|X\n"
          ],
          "name": "stdout"
        }
      ]
    }
  ]
}